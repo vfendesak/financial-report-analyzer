{
 "cells": [
  {
   "cell_type": "code",
   "execution_count": 7,
   "metadata": {},
   "outputs": [],
   "source": [
    "import logging\n",
    "from xbrl.cache import HttpCache\n",
    "from xbrl.instance import XbrlParser, XbrlInstance"
   ]
  },
  {
   "cell_type": "code",
   "execution_count": 8,
   "metadata": {},
   "outputs": [
    {
     "name": "stderr",
     "output_type": "stream",
     "text": [
      "INFO:xbrl.helper.connection_manager:200 https://www.sec.gov/Archives/edgar/data/0000320193/000032019321000105/aapl-20210925.htm\n",
      "INFO:xbrl.helper.connection_manager:200 https://www.sec.gov/Archives/edgar/data/0000320193/000032019321000105/aapl-20210925.xsd\n",
      "INFO:xbrl.helper.connection_manager:200 https://xbrl.fasb.org/srt/2021/elts/srt-2021-01-31.xsd\n",
      "INFO:xbrl.helper.connection_manager:200 http://www.xbrl.org/2003/xbrl-instance-2003-12-31.xsd\n",
      "INFO:xbrl.helper.connection_manager:200 http://www.xbrl.org/2003/xbrl-linkbase-2003-12-31.xsd\n",
      "INFO:xbrl.helper.connection_manager:200 http://www.xbrl.org/2003/xl-2003-12-31.xsd\n",
      "INFO:xbrl.helper.connection_manager:200 http://www.xbrl.org/2003/xlink-2003-12-31.xsd\n",
      "INFO:xbrl.helper.connection_manager:200 https://www.xbrl.org/dtr/type/2020-01-21/types.xsd\n",
      "INFO:xbrl.helper.connection_manager:200 https://www.xbrl.org/2020/extensible-enumerations-2.0.xsd\n",
      "INFO:xbrl.helper.connection_manager:200 http://www.xbrl.org/2005/xbrldt-2005.xsd\n",
      "INFO:xbrl.helper.connection_manager:200 http://www.xbrl.org/2006/ref-2006-02-27.xsd\n",
      "INFO:xbrl.helper.connection_manager:200 https://xbrl.fasb.org/srt/2021/elts/srt-types-2021-01-31.xsd\n",
      "INFO:xbrl.helper.connection_manager:200 https://xbrl.sec.gov/country/2021/country-2021.xsd\n",
      "INFO:xbrl.helper.connection_manager:200 https://xbrl.fasb.org/us-gaap/2021/elts/us-gaap-2021-01-31.xsd\n",
      "INFO:xbrl.helper.connection_manager:200 https://xbrl.fasb.org/us-gaap/2021/elts/us-types-2021-01-31.xsd\n",
      "INFO:xbrl.helper.connection_manager:200 https://xbrl.fasb.org/us-gaap/2021/elts/us-roles-2021-01-31.xsd\n",
      "INFO:xbrl.helper.connection_manager:200 https://xbrl.sec.gov/dei/2021/dei-2021.xsd\n",
      "INFO:xbrl.helper.connection_manager:200 https://www.sec.gov/Archives/edgar/data/0000320193/000032019321000105/aapl-20210925_lab.xml\n",
      "INFO:xbrl.helper.connection_manager:200 https://www.sec.gov/Archives/edgar/data/0000320193/000032019321000105/aapl-20210925_pre.xml\n",
      "INFO:xbrl.helper.connection_manager:200 https://www.sec.gov/Archives/edgar/data/0000320193/000032019321000105/aapl-20210925_cal.xml\n",
      "INFO:xbrl.helper.connection_manager:200 https://www.sec.gov/Archives/edgar/data/0000320193/000032019321000105/aapl-20210925_def.xml\n"
     ]
    }
   ],
   "source": [
    "# just to see which files are downloaded\n",
    "logging.basicConfig(level=logging.INFO)\n",
    "\n",
    "cache: HttpCache = HttpCache('./cache')\n",
    "cache.set_headers({'From': 'YOUR@EMAIL.com', 'User-Agent': 'py-xbrl/2.1.0'})\n",
    "parser = XbrlParser(cache)\n",
    "\n",
    "schema_url = \"https://www.sec.gov/Archives/edgar/data/0000320193/000032019321000105/aapl-20210925.htm\"\n",
    "inst: XbrlInstance = parser.parse_instance(schema_url)"
   ]
  },
  {
   "cell_type": "code",
   "execution_count": 11,
   "metadata": {},
   "outputs": [],
   "source": [
    "import json"
   ]
  },
  {
   "cell_type": "code",
   "execution_count": 15,
   "metadata": {},
   "outputs": [],
   "source": [
    "import pandas as pd"
   ]
  },
  {
   "cell_type": "code",
   "execution_count": 18,
   "metadata": {},
   "outputs": [],
   "source": [
    "report = json.loads(inst.json(override_fact_ids=True))"
   ]
  },
  {
   "cell_type": "code",
   "execution_count": 64,
   "metadata": {},
   "outputs": [],
   "source": [
    "def satz_erkenner(i, leerzeichen=3):\n",
    "    if len(str(i).split(\" \")) > leerzeichen:\n",
    "        return True\n",
    "    return False"
   ]
  },
  {
   "cell_type": "code",
   "execution_count": 63,
   "metadata": {},
   "outputs": [
    {
     "name": "stdout",
     "output_type": "stream",
     "text": [
      "Common Stock, $0.00001 par value per share\n",
      "Summary of Significant Accounting Policies\n",
      "Basis of Presentation and PreparationThe consolidated financial statements include the accounts of Apple Inc. and its wholly owned subsidiaries (collectively “Apple” or the “Company”). Intercompany accounts and transactions have been eliminated. In the opinion of the Company’s management, the consolidated financial statements reflect all adjustments, which are normal and recurring in nature, necessary for fair financial statement presentation. The preparation of these consolidated financial statements and accompanying notes in conformity with U.S. generally accepted accounting principles requires management to make estimates and assumptions that affect the amounts reported. Actual results could differ materially from those estimates. Certain prior period amounts in the consolidated financial statements and accompanying notes have been reclassified to conform to the current period’s presentation.\n",
      "The Company’s fiscal year is the 52- or 53-week period that ends on the last Saturday of September. An additional week is included in the first fiscal quarter every five or six years to realign the Company’s fiscal quarters with calendar quarters. The Company’s fiscal years 2021, 2020 and 2019 spanned 52 weeks each. Unless otherwise stated, references to particular years, quarters, months and periods refer to the Company’s fiscal years ended in September and the associated quarters, months and periods of those fiscal years.\n",
      "Recently Adopted Accounting PronouncementsFinancial Instruments – Credit LossesAt the beginning of the first quarter of 2021, the Company adopted the Financial Accounting Standards Board’s (the “FASB”) Accounting Standards Update (“ASU”) No. 2016-13, Financial Instruments – Credit Losses (Topic 326): Measurement of Credit Losses on Financial Instruments (“ASU 2016-13”), which modifies the measurement of expected credit losses on certain financial instruments. The Company adopted ASU 2016-13 utilizing the modified retrospective transition method. The adoption of ASU 2016-13 did not have a material impact on the Company’s condensed consolidated financial statements.\n",
      "Advertising CostsAdvertising costs are expensed as incurred and included in selling, general and administrative expenses.\n",
      "Share-Based CompensationThe Company generally measures share-based compensation based on the closing price of the Company’s common stock on the date of grant, and recognizes expense on a straight-line basis for its estimate of equity awards that will ultimately vest. Further information regarding share-based compensation can be found in Note 9, “Benefit Plans.”\n",
      "The following table shows the computation of basic and diluted earnings per share for 2021, 2020 and 2019 (net income in millions and shares in thousands):202120202019Numerator:Net income$94,680 $57,411 $55,256 Denominator:Weighted-average basic shares outstanding16,701,272 17,352,119 18,471,336 Effect of dilutive securities163,647 176,095 124,315 Weighted-average diluted shares16,864,919 17,528,214 18,595,651 Basic earnings per share$5.67 $3.31 $2.99 Diluted earnings per share$5.61 $3.28 $2.97 \n",
      "The Company applies the treasury stock method to determine the dilutive effect of potentially dilutive securities.\n",
      "All highly liquid investments with maturities of three months or less at the date of purchase are classified as cash equivalents.\n",
      "The Company’s investments in marketable debt securities have been classified and accounted for as available-for-sale. The Company classifies its marketable debt securities as either short-term or long-term based on each instrument’s underlying contractual maturity date. Unrealized gains and losses on marketable debt securities classified as available-for-sale are recognized in other comprehensive income/(loss) (“OCI”). The Company’s investments in marketable equity securities are classified based on the nature of the securities and their availability for use in current operations. The Company’s marketable equity securities are measured at fair value with gains and losses recognized in other income/(expense), net (“OI&E”).The cost of securities sold is determined using the specific identification method.\n",
      "InventoriesInventories are measured using the first-in, first-out method.\n",
      "Restricted Cash and Restricted Marketable SecuritiesThe Company considers cash and marketable securities to be restricted when withdrawal or general use is legally restricted. The Company reports restricted cash as other assets in the Consolidated Balance Sheets, and determines current or non-current classification based on the expected duration of the restriction. The Company reports restricted marketable securities as current or non-current marketable securities in the Consolidated Balance Sheets based on the classification of the underlying securities.\n",
      "Derivative Instruments and HedgingAll derivative instruments are recorded in the Consolidated Balance Sheets at fair value. The accounting treatment for derivative gains and losses is based on intended use and hedge designation.Gains and losses arising from amounts that are included in the assessment of cash flow hedge effectiveness are initially deferred in accumulated other comprehensive income/(loss) (“AOCI”) and subsequently reclassified into earnings when the hedged transaction affects earnings, and in the same line item in the Consolidated Statements of Operations. For options designated as cash flow hedges, the Company excludes time value from the assessment of hedge effectiveness and recognizes it on a straight-line basis over the life of the hedge in the Consolidated Statements of Operations line item to which the hedge relates. Changes in the fair value of amounts excluded from the assessment of hedge effectiveness are recognized in OCI.Gains and losses arising from amounts that are included in the assessment of fair value hedge effectiveness are recognized in the Consolidated Statements of Operations line item to which the hedge relates along with offsetting losses and gains related to the change in value of the hedged item. For foreign exchange forward contracts designated as fair value hedges, the Company excludes the forward carry component from the assessment of hedge effectiveness and recognizes it in OI&E on a straight-line basis over the life of the hedge. Changes in the fair value of amounts excluded from the assessment of hedge effectiveness are recognized in OCI.Gains and losses arising from changes in the fair values of derivative instruments that are not designated as accounting hedges are recognized in the Consolidated Statements of Operations line items to which the derivative instruments relate.\n",
      "Fair Value MeasurementsThe fair values of the Company’s money market funds and certain marketable equity securities are based on quoted prices in active markets for identical assets. The valuation techniques used to measure the fair value of the Company’s debt instruments and all other financial instruments, which generally have counterparties with high credit ratings, are based on quoted market prices or model-driven valuations using significant inputs derived from or corroborated by observable market data.\n",
      "Net sales disaggregated by significant products and services for 2021, 2020 and 2019 were as follows (in millions):202120202019iPhone (1)$191,973 $137,781 $142,381 Mac (1)35,190 28,622 25,740 iPad (1)31,862 23,724 21,280 Wearables, Home and Accessories (1)(2)38,367 30,620 24,482 Services (3)68,425 53,768 46,291 Total net sales (4)$365,817 $274,515 $260,174 (1)Products net sales include amortization of the deferred value of unspecified software upgrade rights, which are bundled in the sales price of the respective product.(2)Wearables, Home and Accessories net sales include sales of AirPods, Apple TV, Apple Watch, Beats products, HomePod, iPod touch and accessories.(3)Services net sales include sales from the Company’s advertising, AppleCare, cloud, digital content, payment and other services. Services net sales also include amortization of the deferred value of services bundled in the sales price of certain products.(4)Includes $6.7 billion of revenue recognized in 2021 that was included in deferred revenue as of September 26, 2020, $5.0 billion of revenue recognized in 2020 that was included in deferred revenue as of September 28, 2019, and $5.9 billion of revenue recognized in 2019 that was included in deferred revenue as of September 29, 2018.\n",
      "The following tables show the Company’s cash, cash equivalents and marketable securities by significant investment category as of September 25, 2021 and September 26, 2020 (in millions): 2021AdjustedCostUnrealizedGainsUnrealizedLossesFairValueCash andCashEquivalentsCurrentMarketableSecuritiesNon-CurrentMarketableSecuritiesCash$17,305 $— $— $17,305 $17,305 $— $— Level 1 (1):Money market funds9,608 — — 9,608 9,608 — — Mutual funds175 11 (1)185 — 185 — Subtotal9,783 11 (1)9,793 9,608 185 — Level 2 (2):Equity securities1,527 — (564)963 — 963 — U.S. Treasury securities22,878 102 (77)22,903 3,596 6,625 12,682 U.S. agency securities8,949 2 (64)8,887 1,775 1,930 5,182 Non-U.S. government securities20,201 211 (101)20,311 390 3,091 16,830 Certificates of deposit and time deposits1,300 — — 1,300 490 810 — Commercial paper2,639 — — 2,639 1,776 863 — Corporate debt securities83,883 1,242 (267)84,858 — 12,327 72,531 Municipal securities967 14 — 981 — 130 851 Mortgage- and asset-backed securities20,529 171 (124)20,576 — 775 19,801 Subtotal162,873 1,742 (1,197)163,418 8,027 27,514 127,877 Total (3)$189,961 $1,753 $(1,198)$190,516 $34,940 $27,699 $127,877 2020AdjustedCostUnrealizedGainsUnrealizedLossesFairValueCash andCashEquivalentsCurrentMarketableSecuritiesNon-CurrentMarketableSecuritiesCash$17,773 $— $— $17,773 $17,773 $— $— Level 1 (1): Money market funds2,171 — — 2,171 2,171 — — Level 2 (2):U.S. Treasury securities28,439 331 — 28,770 8,580 11,972 8,218 U.S. agency securities8,604 8 — 8,612 2,009 3,078 3,525 Non-U.S. government securities19,361 275 (186)19,450 255 3,329 15,866 Certificates of deposit and time deposits10,399 — — 10,399 4,043 6,246 110 Commercial paper11,226 — — 11,226 3,185 8,041 — Corporate debt securities76,937 1,834 (175)78,596 — 19,687 58,909 Municipal securities1,001 22 — 1,023 — 139 884 Mortgage- and asset-backed securities13,520 314 (24)13,810 — 435 13,375 Subtotal169,487 2,784 (385)171,886 18,072 52,927 100,887 Total (3)$189,431 $2,784 $(385)$191,830 $38,016 $52,927 $100,887 (1)Level 1 fair value estimates are based on quoted prices in active markets for identical assets or liabilities.(2)Level 2 fair value estimates are based on observable inputs other than quoted prices in active markets for identical assets and liabilities, quoted prices for identical or similar assets or liabilities in inactive markets, or other inputs that are observable or can be corroborated by observable market data for substantially the full term of the assets or liabilities.(3)As of September 25, 2021 and September 26, 2020, total marketable securities included $17.9 billion and $18.6 billion, respectively, that was restricted from general use, related to the State Aid Decision (refer to Note 5, “Income Taxes”) and other agreements.\n",
      "The following table shows the fair value of the Company’s non-current marketable debt securities, by contractual maturity, as of September 25, 2021 (in millions):\n",
      "The notional amounts of the Company’s outstanding derivative instruments as of September 25, 2021 and September 26, 2020 were as follows (in millions):20212020Derivative instruments designated as accounting hedges:Foreign exchange contracts$76,475 $57,410 Interest rate contracts$16,875 $20,700 Derivative instruments not designated as accounting hedges:Foreign exchange contracts$126,918 $88,636 \n",
      "The carrying amounts of the Company’s hedged items in fair value hedges as of September 25, 2021 and September 26, 2020 were as follows (in millions):20212020Hedged assets/(liabilities):Current and non-current marketable securities$15,954 $16,270 Current and non-current term debt$(17,857)$(21,033)\n",
      "Property, Plant and Equipment, Net20212020Land and buildings$20,041 $17,952 Machinery, equipment and internal-use software78,659 75,291 Leasehold improvements11,023 10,283 Gross property, plant and equipment109,723 103,526 Accumulated depreciation and amortization(70,283)(66,760)Total property, plant and equipment, net$39,440 $36,766 \n",
      "Other Non-Current Liabilities20212020Long-term taxes payable$24,689 $28,170 Other non-current liabilities28,636 26,320 Total other non-current liabilities$53,325 $54,490 \n",
      "Other Income/(Expense), NetThe following table shows the detail of OI&E for 2021, 2020 and 2019 (in millions):202120202019Interest and dividend income$2,843 $3,763 $4,961 Interest expense(2,645)(2,873)(3,576)Other income/(expense), net60 (87)422 Total other income/(expense), net$258 $803 $1,807 \n",
      "The provision for income taxes for 2021, 2020 and 2019, consisted of the following (in millions):202120202019Federal:Current$8,257 $6,306 $6,384 Deferred(7,176)(3,619)(2,939)Total1,081 2,687 3,445 State:Current1,620 455 475 Deferred(338)21 (67)Total1,282 476 408 Foreign:Current9,424 3,134 3,962 Deferred2,740 3,383 2,666 Total12,164 6,517 6,628 Provision for income taxes$14,527 $9,680 $10,481 \n",
      "A reconciliation of the provision for income taxes, with the amount computed by applying the statutory federal income tax rate (% in 2021, 2020 and 2019) to income before provision for income taxes for 2021, 2020 and 2019, is as follows (dollars in millions):21202120202019Computed expected tax$22,933 $14,089 $13,805 State taxes, net of federal effect1,151 423 423 Impacts of the U.S. Tax Cuts and Jobs Act of 2017— (582)— Earnings of foreign subsidiaries(4,715)(2,534)(2,625)Foreign-derived intangible income deduction(1,372)(169)(149)Research and development credit, net(1,033)(728)(548)Excess tax benefits from equity awards(2,137)(930)(639)Other(300)111 214 Provision for income taxes$14,527 $9,680 $10,481 Effective tax rate13.3 %14.4 %15.9 %\n",
      "As of September 25, 2021 and September 26, 2020, the significant components of the Company’s deferred tax assets and liabilities were (in millions):20212020Deferred tax assets:Amortization and depreciation$5,575 $8,317 Accrued liabilities and other reserves5,895 4,934 Lease liabilities2,406 2,038 Deferred revenue5,399 1,638 Tax credit carryforwards4,262 797 Other1,639 1,612 Total deferred tax assets25,176 19,336 Less: Valuation allowance(4,903)(1,041)Total deferred tax assets, net20,273 18,295 Deferred tax liabilities:Minimum tax on foreign earnings4,318 7,045 Right-of-use assets2,167 1,862 Unrealized gains203 526 Other512 705 Total deferred tax liabilities7,200 10,138 Net deferred tax assets$13,073 $8,157 \n",
      "The Company has elected to record certain deferred tax assets and liabilities in connection with the minimum tax on certain foreign earnings created by the U.S. Tax Cuts and Jobs Act of 2017 (the “Act”).\n",
      "The aggregate change in the balance of gross unrecognized tax benefits, which excludes interest and penalties, for 2021, 2020 and 2019, is as follows (in millions):202120202019Beginning balances$16,475 $15,619 $9,694 Increases related to tax positions taken during a prior year816 454 5,845 Decreases related to tax positions taken during a prior year(1,402)(791)(686)Increases related to tax positions taken during the current year1,607 1,347 1,697 Decreases related to settlements with taxing authorities(1,838)(85)(852)Decreases related to expiration of the statute of limitations(181)(69)(79)Ending balances$15,477 $16,475 $15,619 \n",
      "The Company’s lease arrangements may contain both lease and nonlease components. The Company has elected to combine and account for lease and nonlease components as a single lease component for leases of retail, corporate, and data center facilities.\n",
      "The following table shows ROU assets and lease liabilities, and the associated financial statement line items, as of September 25, 2021 and September 26, 2020 (in millions):Lease-Related Assets and LiabilitiesFinancial Statement Line Items20212020Right-of-use assets:Operating leasesOther non-current assets$10,087 $8,570 Finance leasesProperty, plant and equipment, net861 629 Total right-of-use assets$10,948 $9,199 Lease liabilities:Operating leasesOther current liabilities$1,449 $1,436 Other non-current liabilities9,506 7,745 Finance leasesOther current liabilities79 24 Other non-current liabilities769 637 Total lease liabilities$11,803 $9,842 \n",
      "Lease liability maturities as of September 25, 2021, are as follows (in millions):OperatingLeasesFinanceLeasesTotal2022$1,629 $104 $1,733 20231,560 123 1,683 20241,499 99 1,598 20251,251 46 1,297 20261,061 26 1,087 Thereafter5,187 868 6,055 Total undiscounted liabilities12,187 1,266 13,453 Less: Imputed interest(1,232)(418)(1,650)Total lease liabilities$10,955 $848 $11,803 \n",
      "Lease liability maturities as of September 25, 2021, are as follows (in millions):OperatingLeasesFinanceLeasesTotal2022$1,629 $104 $1,733 20231,560 123 1,683 20241,499 99 1,598 20251,251 46 1,297 20261,061 26 1,087 Thereafter5,187 868 6,055 Total undiscounted liabilities12,187 1,266 13,453 Less: Imputed interest(1,232)(418)(1,650)Total lease liabilities$10,955 $848 $11,803 \n",
      "The following table provides a summary of cash flows associated with the issuance and maturities of Commercial Paper for 2021, 2020 and 2019 (in millions):\n",
      "The following table provides a summary of the Company’s term debt as of September 25, 2021 and September 26, 2020:\n",
      "The future principal payments for the Company’s Notes as of September 25, 2021, are as follows (in millions):2022$9,583 202311,391 202410,202 202510,914 202611,408 Thereafter64,565 Total term debt$118,063 \n",
      "The following table shows the changes in shares of common stock for 2021, 2020 and 2019 (in thousands):202120202019Common stock outstanding, beginning balances16,976,763 17,772,945 19,019,943 Common stock repurchased(656,340)(917,270)(1,380,819)Common stock issued, net of shares withheld for employee taxes106,363 121,088 133,821 Common stock outstanding, ending balances16,426,786 16,976,763 17,772,945 \n",
      "A summary of the Company’s RSU activity and related information for 2021, 2020 and 2019, is as follows:Number ofRSUs(in thousands)Weighted-AverageGrant Date FairValue Per RSUAggregateFair Value(in millions)Balance as of September 29, 2018368,618 $33.65 RSUs granted147,409 $53.99 RSUs vested(168,350)$33.80 RSUs canceled(21,609)$40.71 Balance as of September 28, 2019326,068 $42.30 RSUs granted156,800 $59.20 RSUs vested(157,743)$40.29 RSUs canceled(14,347)$48.07 Balance as of September 26, 2020310,778 $51.58 RSUs granted89,363 $116.33 RSUs vested(145,766)$50.71 RSUs canceled(13,948)$68.95 Balance as of September 25, 2021240,427 $75.16 $35,324 \n",
      "The following table shows share-based compensation expense and the related income tax benefit included in the Consolidated Statements of Operations for 2021, 2020 and 2019 (in millions):202120202019Share-based compensation expense$7,906 $6,829 $6,068 Income tax benefit related to share-based compensation expense$(4,056)$(2,476)$(1,967)\n",
      "The following table shows changes in the Company’s accrued warranties and related costs for 2021, 2020 and 2019 (in millions):202120202019Beginning accrued warranty and related costs$3,354 $3,570 $3,692 Cost of warranty claims(2,674)(2,956)(3,857)Accruals for product warranty2,684 2,740 3,735 Ending accrued warranty and related costs$3,364 $3,354 $3,570 \n",
      "Future payments under noncancelable unconditional purchase obligations having a remaining term in excess of one year as of September 25, 2021, are as follows (in millions):\n",
      "Segment Information and Geographic Data\n",
      "The Company reports segment information based on the “management” approach. The management approach designates the internal reporting used by management for making decisions and assessing performance as the source of the Company’s reportable segments.The Company manages its business primarily on a geographic basis. The Company’s reportable segments consist of the Americas, Europe, Greater China, Japan and Rest of Asia Pacific. Americas includes both North and South America. Europe includes European countries, as well as India, the Middle East and Africa. Greater China includes China mainland, Hong Kong and Taiwan. Rest of Asia Pacific includes Australia and those Asian countries not included in the Company’s other reportable segments. Although the reportable segments provide similar hardware and software products and similar services, each one is managed separately to better align with the location of the Company’s customers and distribution partners and the unique market dynamics of each geographic region. The accounting policies of the various segments are the same as those described in Note 1, “Summary of Significant Accounting Policies.”\n",
      "The following table shows information by reportable segment for 2021, 2020 and 2019 (in millions):202120202019Americas:Net sales$153,306 $124,556 $116,914 Operating income$53,382 $37,722 $35,099 Europe:Net sales$89,307 $68,640 $60,288 Operating income$32,505 $22,170 $19,195 Greater China:Net sales$68,366 $40,308 $43,678 Operating income$28,504 $15,261 $16,232 Japan:Net sales$28,482 $21,418 $21,506 Operating income$12,798 $9,279 $9,369 Rest of Asia Pacific:Net sales$26,356 $19,593 $17,788 Operating income$9,817 $6,808 $6,055 \n",
      "A reconciliation of the Company’s segment operating income to the Consolidated Statements of Operations for 2021, 2020 and 2019 is as follows (in millions):202120202019Segment operating income$137,006 $91,240 $85,950 Research and development expense(21,914)(18,752)(16,217)Other corporate expenses, net(6,143)(6,200)(5,803)Total operating income$108,949 $66,288 $63,930 \n",
      "Net sales for 2021, 2020 and 2019 and long-lived assets as of September 25, 2021 and September 26, 2020 were as follows (in millions):\n"
     ]
    }
   ],
   "source": [
    "for key, value in report[\"facts\"].items():\n",
    "    if \"value\" in value.keys():\n",
    "        if isinstance(value[\"value\"], str):\n",
    "            string = report[\"facts\"][key][\"value\"]\n",
    "            if len(string.split(\" \")) > 4:\n",
    "                print(string)"
   ]
  },
  {
   "cell_type": "code",
   "execution_count": 60,
   "metadata": {},
   "outputs": [
    {
     "data": {
      "text/plain": [
       "{'value': 'Net sales for 2021, 2020 and 2019 and long-lived assets as of September\\xa025, 2021 and September\\xa026, 2020 were as follows (in millions):',\n",
       " 'dimensions': {'concept': 'ScheduleOfRevenuesFromExternalCustomersAndLongLivedAssetsByGeographicalAreasTableTextBlock',\n",
       "  'entity': '0000320193',\n",
       "  'period': '2020-09-27/2021-09-25'}}"
      ]
     },
     "execution_count": 60,
     "metadata": {},
     "output_type": "execute_result"
    }
   ],
   "source": [
    "value"
   ]
  },
  {
   "cell_type": "code",
   "execution_count": 37,
   "metadata": {},
   "outputs": [],
   "source": [
    "df = pd.json_normalize(report[\"facts\"]).T"
   ]
  },
  {
   "cell_type": "code",
   "execution_count": 40,
   "metadata": {},
   "outputs": [],
   "source": [
    "df = df.rename(columns={0:\"value\"})"
   ]
  },
  {
   "cell_type": "code",
   "execution_count": 65,
   "metadata": {},
   "outputs": [],
   "source": [
    "df[\"is_sentence\"] = df[\"value\"].apply(lambda x: satz_erkenner(x, 4))"
   ]
  },
  {
   "cell_type": "code",
   "execution_count": 69,
   "metadata": {},
   "outputs": [],
   "source": [
    "import re"
   ]
  },
  {
   "cell_type": "code",
   "execution_count": 73,
   "metadata": {},
   "outputs": [],
   "source": [
    "pattern = r\"(?<!\\b(?:Mr|Mrs|Dr|Ms)\\b)(?<!\\b\\w)\\.\\s\""
   ]
  },
  {
   "cell_type": "code",
   "execution_count": 90,
   "metadata": {},
   "outputs": [],
   "source": [
    "sentences = df.query(\"is_sentence==True\").reset_index(drop=True)[\"value\"].apply(lambda x: x.split(r\". \")).explode().reset_index(drop=True)"
   ]
  },
  {
   "cell_type": "code",
   "execution_count": 91,
   "metadata": {},
   "outputs": [],
   "source": [
    "sentences = pd.DataFrame(sentences)"
   ]
  },
  {
   "cell_type": "code",
   "execution_count": 92,
   "metadata": {},
   "outputs": [],
   "source": [
    "sentences[\"e_score\"] = sentences[\"value\"].apply(lambda x: len(x))\n",
    "sentences[\"s_score\"] = sentences[\"value\"].apply(lambda x: len(x) * 2)\n",
    "sentences[\"g_score\"] = sentences[\"value\"].apply(lambda x: len(x) * 3)"
   ]
  },
  {
   "cell_type": "code",
   "execution_count": 93,
   "metadata": {},
   "outputs": [
    {
     "data": {
      "text/html": [
       "<div>\n",
       "<style scoped>\n",
       "    .dataframe tbody tr th:only-of-type {\n",
       "        vertical-align: middle;\n",
       "    }\n",
       "\n",
       "    .dataframe tbody tr th {\n",
       "        vertical-align: top;\n",
       "    }\n",
       "\n",
       "    .dataframe thead th {\n",
       "        text-align: right;\n",
       "    }\n",
       "</style>\n",
       "<table border=\"1\" class=\"dataframe\">\n",
       "  <thead>\n",
       "    <tr style=\"text-align: right;\">\n",
       "      <th></th>\n",
       "      <th>value</th>\n",
       "      <th>e_score</th>\n",
       "      <th>s_score</th>\n",
       "      <th>g_score</th>\n",
       "    </tr>\n",
       "  </thead>\n",
       "  <tbody>\n",
       "    <tr>\n",
       "      <th>0</th>\n",
       "      <td>Common Stock, $0.00001 par value per share</td>\n",
       "      <td>42</td>\n",
       "      <td>84</td>\n",
       "      <td>126</td>\n",
       "    </tr>\n",
       "    <tr>\n",
       "      <th>1</th>\n",
       "      <td>Summary of Significant Accounting Policies</td>\n",
       "      <td>42</td>\n",
       "      <td>84</td>\n",
       "      <td>126</td>\n",
       "    </tr>\n",
       "    <tr>\n",
       "      <th>2</th>\n",
       "      <td>Basis of Presentation and PreparationThe conso...</td>\n",
       "      <td>108</td>\n",
       "      <td>216</td>\n",
       "      <td>324</td>\n",
       "    </tr>\n",
       "    <tr>\n",
       "      <th>3</th>\n",
       "      <td>and its wholly owned subsidiaries (collectivel...</td>\n",
       "      <td>73</td>\n",
       "      <td>146</td>\n",
       "      <td>219</td>\n",
       "    </tr>\n",
       "    <tr>\n",
       "      <th>4</th>\n",
       "      <td>Intercompany accounts and transactions have be...</td>\n",
       "      <td>59</td>\n",
       "      <td>118</td>\n",
       "      <td>177</td>\n",
       "    </tr>\n",
       "    <tr>\n",
       "      <th>...</th>\n",
       "      <td>...</td>\n",
       "      <td>...</td>\n",
       "      <td>...</td>\n",
       "      <td>...</td>\n",
       "    </tr>\n",
       "    <tr>\n",
       "      <th>84</th>\n",
       "      <td>Although the reportable segments provide simil...</td>\n",
       "      <td>276</td>\n",
       "      <td>552</td>\n",
       "      <td>828</td>\n",
       "    </tr>\n",
       "    <tr>\n",
       "      <th>85</th>\n",
       "      <td>The accounting policies of the various segment...</td>\n",
       "      <td>136</td>\n",
       "      <td>272</td>\n",
       "      <td>408</td>\n",
       "    </tr>\n",
       "    <tr>\n",
       "      <th>86</th>\n",
       "      <td>The following table shows information by repor...</td>\n",
       "      <td>530</td>\n",
       "      <td>1060</td>\n",
       "      <td>1590</td>\n",
       "    </tr>\n",
       "    <tr>\n",
       "      <th>87</th>\n",
       "      <td>A reconciliation of the Company’s segment oper...</td>\n",
       "      <td>370</td>\n",
       "      <td>740</td>\n",
       "      <td>1110</td>\n",
       "    </tr>\n",
       "    <tr>\n",
       "      <th>88</th>\n",
       "      <td>Net sales for 2021, 2020 and 2019 and long-liv...</td>\n",
       "      <td>134</td>\n",
       "      <td>268</td>\n",
       "      <td>402</td>\n",
       "    </tr>\n",
       "  </tbody>\n",
       "</table>\n",
       "<p>89 rows × 4 columns</p>\n",
       "</div>"
      ],
      "text/plain": [
       "                                                value  e_score  s_score  \\\n",
       "0          Common Stock, $0.00001 par value per share       42       84   \n",
       "1          Summary of Significant Accounting Policies       42       84   \n",
       "2   Basis of Presentation and PreparationThe conso...      108      216   \n",
       "3   and its wholly owned subsidiaries (collectivel...       73      146   \n",
       "4   Intercompany accounts and transactions have be...       59      118   \n",
       "..                                                ...      ...      ...   \n",
       "84  Although the reportable segments provide simil...      276      552   \n",
       "85  The accounting policies of the various segment...      136      272   \n",
       "86  The following table shows information by repor...      530     1060   \n",
       "87  A reconciliation of the Company’s segment oper...      370      740   \n",
       "88  Net sales for 2021, 2020 and 2019 and long-liv...      134      268   \n",
       "\n",
       "    g_score  \n",
       "0       126  \n",
       "1       126  \n",
       "2       324  \n",
       "3       219  \n",
       "4       177  \n",
       "..      ...  \n",
       "84      828  \n",
       "85      408  \n",
       "86     1590  \n",
       "87     1110  \n",
       "88      402  \n",
       "\n",
       "[89 rows x 4 columns]"
      ]
     },
     "execution_count": 93,
     "metadata": {},
     "output_type": "execute_result"
    }
   ],
   "source": [
    "sentences"
   ]
  },
  {
   "cell_type": "code",
   "execution_count": null,
   "metadata": {},
   "outputs": [],
   "source": []
  }
 ],
 "metadata": {
  "kernelspec": {
   "display_name": "fra-dev",
   "language": "python",
   "name": "fra-dev"
  },
  "language_info": {
   "codemirror_mode": {
    "name": "ipython",
    "version": 3
   },
   "file_extension": ".py",
   "mimetype": "text/x-python",
   "name": "python",
   "nbconvert_exporter": "python",
   "pygments_lexer": "ipython3",
   "version": "3.12.1"
  }
 },
 "nbformat": 4,
 "nbformat_minor": 2
}
