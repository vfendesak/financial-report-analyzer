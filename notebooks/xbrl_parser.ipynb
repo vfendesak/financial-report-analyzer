{
 "cells": [
  {
   "cell_type": "code",
   "execution_count": null,
   "metadata": {},
   "outputs": [],
   "source": [
    "import logging\n",
    "from xbrl.cache import HttpCache\n",
    "from xbrl.instance import XbrlParser, XbrlInstance\n",
    "\n",
    "import json\n",
    "import pandas as pd"
   ]
  },
  {
   "cell_type": "code",
   "execution_count": null,
   "metadata": {},
   "outputs": [],
   "source": [
    "# just to see which files are downloaded\n",
    "logging.basicConfig(level=logging.INFO)\n",
    "\n",
    "cache: HttpCache = HttpCache(\"./cache\")\n",
    "cache.set_headers({\"From\": \"YOUR@EMAIL.com\", \"User-Agent\": \"py-xbrl/2.1.0\"})\n",
    "parser = XbrlParser(cache)\n",
    "\n",
    "schema_url = \"https://www.sec.gov/Archives/edgar/data/0000320193/000032019321000105/aapl-20210925.htm\"\n",
    "inst: XbrlInstance = parser.parse_instance(schema_url)"
   ]
  },
  {
   "cell_type": "code",
   "execution_count": null,
   "metadata": {},
   "outputs": [],
   "source": [
    "report = json.loads(inst.json(override_fact_ids=True))"
   ]
  },
  {
   "cell_type": "code",
   "execution_count": null,
   "metadata": {},
   "outputs": [],
   "source": [
    "def satz_erkenner(i, leerzeichen=3):\n",
    "    if len(str(i).split(\" \")) > leerzeichen:\n",
    "        return True\n",
    "    return False"
   ]
  },
  {
   "cell_type": "code",
   "execution_count": null,
   "metadata": {},
   "outputs": [],
   "source": [
    "for key, value in report[\"facts\"].items():\n",
    "    if \"value\" in value.keys():\n",
    "        if isinstance(value[\"value\"], str):\n",
    "            string = report[\"facts\"][key][\"value\"]\n",
    "            if len(string.split(\" \")) > 4:\n",
    "                print(string)"
   ]
  },
  {
   "cell_type": "code",
   "execution_count": null,
   "metadata": {},
   "outputs": [],
   "source": [
    "value"
   ]
  },
  {
   "cell_type": "code",
   "execution_count": null,
   "metadata": {},
   "outputs": [],
   "source": [
    "df = pd.json_normalize(report[\"facts\"]).T"
   ]
  },
  {
   "cell_type": "code",
   "execution_count": null,
   "metadata": {},
   "outputs": [],
   "source": [
    "df = df.rename(columns={0: \"value\"})"
   ]
  },
  {
   "cell_type": "code",
   "execution_count": null,
   "metadata": {},
   "outputs": [],
   "source": [
    "df[\"is_sentence\"] = df[\"value\"].apply(lambda x: satz_erkenner(x, 4))"
   ]
  },
  {
   "cell_type": "code",
   "execution_count": null,
   "metadata": {},
   "outputs": [],
   "source": [
    "import re"
   ]
  },
  {
   "cell_type": "code",
   "execution_count": null,
   "metadata": {},
   "outputs": [],
   "source": [
    "pattern = r\"(?<!\\b(?:Mr|Mrs|Dr|Ms)\\b)(?<!\\b\\w)\\.\\s\""
   ]
  },
  {
   "cell_type": "code",
   "execution_count": null,
   "metadata": {},
   "outputs": [],
   "source": [
    "sentences = (\n",
    "    df.query(\"is_sentence==True\")\n",
    "    .reset_index(drop=True)[\"value\"]\n",
    "    .apply(lambda x: x.split(r\". \"))\n",
    "    .explode()\n",
    "    .reset_index(drop=True)\n",
    ")"
   ]
  },
  {
   "cell_type": "code",
   "execution_count": null,
   "metadata": {},
   "outputs": [],
   "source": [
    "sentences = pd.DataFrame(sentences)"
   ]
  },
  {
   "cell_type": "code",
   "execution_count": null,
   "metadata": {},
   "outputs": [],
   "source": [
    "sentences[\"e_score\"] = sentences[\"value\"].apply(lambda x: len(x))\n",
    "sentences[\"s_score\"] = sentences[\"value\"].apply(lambda x: len(x) * 2)\n",
    "sentences[\"g_score\"] = sentences[\"value\"].apply(lambda x: len(x) * 3)"
   ]
  },
  {
   "cell_type": "code",
   "execution_count": null,
   "metadata": {},
   "outputs": [],
   "source": [
    "sentences"
   ]
  },
  {
   "cell_type": "code",
   "execution_count": null,
   "metadata": {},
   "outputs": [],
   "source": []
  }
 ],
 "metadata": {
  "kernelspec": {
   "display_name": "fra-dev",
   "language": "python",
   "name": "fra-dev"
  },
  "language_info": {
   "codemirror_mode": {
    "name": "ipython",
    "version": 3
   },
   "file_extension": ".py",
   "mimetype": "text/x-python",
   "name": "python",
   "nbconvert_exporter": "python",
   "pygments_lexer": "ipython3",
   "version": "3.12.1"
  }
 },
 "nbformat": 4,
 "nbformat_minor": 2
}
