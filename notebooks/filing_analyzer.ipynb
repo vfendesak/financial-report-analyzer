{
 "cells": [
  {
   "cell_type": "code",
   "execution_count": null,
   "metadata": {},
   "outputs": [],
   "source": [
    "%load_ext autoreload\n",
    "%autoreload 2"
   ]
  },
  {
   "cell_type": "markdown",
   "metadata": {},
   "source": [
    "Todo's:\n",
    "\n",
    "- Remove sentence limitation"
   ]
  },
  {
   "cell_type": "code",
   "execution_count": null,
   "metadata": {},
   "outputs": [],
   "source": [
    "import pandas as pd\n",
    "\n",
    "from datetime import datetime\n",
    "import hashlib\n",
    "\n",
    "from financial_report_analyzer.database_conntector import DatabaseConnector\n",
    "from financial_report_analyzer.scraping import SECScraper\n",
    "from financial_report_analyzer.model import ScoringModel\n",
    "from financial_report_analyzer.content_extractor import TextExtractor"
   ]
  },
  {
   "cell_type": "markdown",
   "metadata": {},
   "source": [
    "### Initialize"
   ]
  },
  {
   "cell_type": "code",
   "execution_count": null,
   "metadata": {},
   "outputs": [],
   "source": [
    "sec_scraper = SECScraper()\n",
    "model = ScoringModel()\n",
    "connector = DatabaseConnector()"
   ]
  },
  {
   "cell_type": "markdown",
   "metadata": {},
   "source": [
    "### Load Data"
   ]
  },
  {
   "cell_type": "code",
   "execution_count": null,
   "metadata": {},
   "outputs": [],
   "source": [
    "connector.table_names\n",
    "\n",
    "filings = connector.fetch_data(\"filings\")\n",
    "scores = connector.fetch_data(\"scores\")"
   ]
  },
  {
   "cell_type": "markdown",
   "metadata": {},
   "source": [
    "### Hashing"
   ]
  },
  {
   "cell_type": "code",
   "execution_count": null,
   "metadata": {},
   "outputs": [],
   "source": [
    "def create_hash(texts: list):\n",
    "    raw_text = \"\".join(texts)\n",
    "    return hashlib.sha256(raw_text.encode()).hexdigest()"
   ]
  },
  {
   "cell_type": "markdown",
   "metadata": {},
   "source": [
    "### Analyze Reports"
   ]
  },
  {
   "cell_type": "code",
   "execution_count": null,
   "metadata": {},
   "outputs": [],
   "source": [
    "def merged(df, col1=\"ticker\", col2=\"year\"):\n",
    "    return df[col1] + df[col2]\n",
    "\n",
    "\n",
    "analyzed = (filings.pipe(merged)).isin((scores.pipe(merged)).tolist())\n",
    "\n",
    "analyzed_filings = filings[analyzed]\n",
    "not_analyzed_filings = filings[~analyzed]"
   ]
  },
  {
   "cell_type": "code",
   "execution_count": null,
   "metadata": {},
   "outputs": [],
   "source": [
    "def create_report_scores(filing, sentences_limit=False):\n",
    "    ticker = filing[\"ticker\"]\n",
    "    year = filing[\"year\"]\n",
    "    filing_url = filing[\"filing_url\"]\n",
    "\n",
    "    report = sec_scraper.fetch_report(filing_url)\n",
    "\n",
    "    extractor = TextExtractor(report)\n",
    "    sentences = extractor.get_sentences()\n",
    "    text_hash = create_hash(sentences)\n",
    "\n",
    "    if sentences_limit:\n",
    "        sentences = sentences[:50]\n",
    "    \n",
    "    report_scores = model.calculate_report_scores(\n",
    "        sentences[:50]\n",
    "    )\n",
    "    report_scores.update(\n",
    "        {\n",
    "            \"ticker\": ticker,\n",
    "            \"year\": year,\n",
    "            \"analysis_timestamp\": datetime.now(),\n",
    "            \"text_hash\": text_hash,\n",
    "        }\n",
    "    )\n",
    "    return report_scores"
   ]
  },
  {
   "cell_type": "code",
   "execution_count": null,
   "metadata": {},
   "outputs": [],
   "source": [
    "new_report_scores = []\n",
    "\n",
    "for _, filing in not_analyzed_filings.iterrows():\n",
    "    report_scores = create_report_scores(filing, sentences_limit=True)\n",
    "    new_report_scores.append(report_scores)"
   ]
  },
  {
   "cell_type": "markdown",
   "metadata": {},
   "source": [
    "## Store scores in database"
   ]
  },
  {
   "cell_type": "code",
   "execution_count": null,
   "metadata": {},
   "outputs": [],
   "source": [
    "upload_scores = pd.concat([scores, pd.DataFrame(new_report_scores)])"
   ]
  },
  {
   "cell_type": "code",
   "execution_count": null,
   "metadata": {},
   "outputs": [],
   "source": [
    "connector.store_data(upload_scores)"
   ]
  },
  {
   "cell_type": "code",
   "execution_count": null,
   "metadata": {},
   "outputs": [],
   "source": []
  }
 ],
 "metadata": {
  "kernelspec": {
   "display_name": "FRA",
   "language": "python",
   "name": "fra"
  },
  "language_info": {
   "codemirror_mode": {
    "name": "ipython",
    "version": 3
   },
   "file_extension": ".py",
   "mimetype": "text/x-python",
   "name": "python",
   "nbconvert_exporter": "python",
   "pygments_lexer": "ipython3",
   "version": "3.12.1"
  }
 },
 "nbformat": 4,
 "nbformat_minor": 2
}
