{
 "cells": [
  {
   "cell_type": "code",
   "execution_count": 1,
   "metadata": {},
   "outputs": [],
   "source": [
    "import requests\n",
    "from bs4 import BeautifulSoup\n",
    "from datetime import date\n",
    "\n",
    "import pandas as pd\n",
    "\n",
    "import time"
   ]
  },
  {
   "cell_type": "code",
   "execution_count": 2,
   "metadata": {},
   "outputs": [],
   "source": [
    "YEARS_BACK = 15\n",
    "current_year = date.today().year"
   ]
  },
  {
   "cell_type": "code",
   "execution_count": 3,
   "metadata": {},
   "outputs": [],
   "source": [
    "ticker = \"aapl\""
   ]
  },
  {
   "cell_type": "code",
   "execution_count": 4,
   "metadata": {},
   "outputs": [],
   "source": [
    "def request_archive(ticker):\n",
    "    base_url = \"https://www.sec.gov/cgi-bin/browse-edgar\"\n",
    "\n",
    "    querystring = {\n",
    "        \"action\": \"getcompany\",\n",
    "        \"CIK\": ticker,\n",
    "        \"type\": \"10-k\",\n",
    "        \"dateb\": \"\",\n",
    "        \"owner\": \"exclude\",\n",
    "        \"count\": \"40\",\n",
    "    }\n",
    "\n",
    "    payload = \"\"\n",
    "    headers = {\n",
    "        \"cookie\": \"ak_bmsc=3F5BFA3D8E552152BD2E67FCE10096DC~000000000000000000000000000000~YAAQx2ZWuPGOaFmNAQAAjp5vWxYmY%2BQzQhGEA4LdPvlk%2FKhQJGvIpoJ7c1qejPPfkG2poXtV5pxvxMDleQ99lavTu2Ic4xtioLn9RNQTTeekmo3qrSSNHNN2tncMBNnQOiJgNc9C4pjVcMkSgM%2F0T1rwSpfExoFy3%2BK3QJD47Lg1IPGzeSyo9h%2F%2BMklPX7t5n%2FtN9YUJgzw%2F9lyQSnu3akaaX0T7zEOLowD%2Bysti7Y46giUIP0ekuZ4oU%2B3Ck%2BYMgXD%2FiaERUudhYh0Ix%2B4scR5M0%2BPDGxb%2BbduEBYxdKq6p%2BR%2F7NNWocRQRah7XUC5eeBQOQaHX8FskSVY9YgLE1Nguxow9JpXo2Y%2FrN2xTVm5%2Flnp55entnuHPUozJ26P032IWtCwyDl%2BODkijsuSpPPfO5gH7PVw6Vgo%2B0B1ZxrrNVOsre0ZJrMrRJVa0%2B4It\",\n",
    "        \"Accept\": \"text/html,application/xhtml+xml,application/xml;q=0.9,image/avif,image/webp,image/apng,*/*;q=0.8\",\n",
    "        \"Accept-Encoding\": \"gzip, deflate, br\",\n",
    "        \"Accept-Language\": \"en-US,en;q=0.9\",\n",
    "        \"Cache-Control\": \"max-age=0\",\n",
    "        \"Cookie\": \"ak_bmsc=3F5BFA3D8E552152BD2E67FCE10096DC~000000000000000000000000000000~YAAQBFgDF1l3BzqNAQAAsylmWxY3NmHWL7CNijcxPunbjZqtio8FdHvQRDxOufmYtfoLhzIVAtPu8I5mXDZBynhUH4XLCr34T8vnJfr7WP+zN4ewSSLZvA2OqWi7xui1z/gW/4q2N7Wb1JjOlXYAdUdt6HHwM+ayuNUv5nw8XvjzzTjm3A7dmFqOGRWdUk7SloEozLRAThyho2i2FkQz/olX+pg3dnozT8Hf0KIRIB5CBxk5ujeFaMWu924K9EpBgptEQ3SkQzITJ/RX+JFcIvDWed7fubLT7cqIdpGMkGboDLrMkJB0Sn+eTSZLolUjysrqtCka7KbPIjUOB4Ps45rbw8joDmfW2k87cE3pQauIrcXTRXrJpwxZ3rZ3Zfix04ULaYUllw==; bm_mi=ED08638E1BD445BFF11BE79BB1DFA4AB~YAAQBFgDF7TNBzqNAQAAgYdtWxbyg9yNZ4FwK6GcLTLosLPB6G+qVK00PIRMsBo3jM0G8TbLAPo6OiFA6HTDdEqD3Ue6OIpMPPBiz+5SQoBFHCN6DtnZVnK4cEpP6qZM9rh3I/wENUqoNs6SNYu0XHiORLwxWxYfq7jUrFZyS+MkE9WPX+wfZdTHSaKCu+xbqf5QoSW1XosxPdYyDZI0SJafesQnz/89NHFelL+KZYXCRbKX1+xJg6pyCO3gj6H/F6FenGR1jGPZg81quf1+hAWUNEVapyIZCsXrZOc0SCC/tnpErpVOwY4bCTeEBMHhFGCS9Sui5ABMUftidodk~1; bm_sv=6E383066D99B4042B27BC05EFB9E214C~YAAQBFgDF7XNBzqNAQAAgYdtWxbZ34/QlgV23NeESN8YlMo1bTxIL6kiC2ZoKd1nypGTSXU0jCG1bX1upvIoz9RbMQNJr8SGK70G9TeWoaSu65EfNYKTUuKMR5c0Wz8O+Aaf2s9di+Rmta4WDh/ID40Rc4JHxKAWZyY7Eu5azfYrv57bgorrFj8yw2ZkQ7WoJuR5DAuo7oIaoNt/nn972prbW/gUxfKWdiSIHl+FjXYRFOh9VHPLPWVdwFob~1\",\n",
    "        \"Sec-Ch-Ua\": '\"Not A(Brand\";v=\"99\", \"Brave\";v=\"121\", \"Chromium\";v=\"121\"',\n",
    "        \"Sec-Ch-Ua-Mobile\": \"?0\",\n",
    "        \"Sec-Ch-Ua-Platform\": '\"macOS\"',\n",
    "        \"Sec-Fetch-Dest\": \"document\",\n",
    "        \"Sec-Fetch-Mode\": \"navigate\",\n",
    "        \"Sec-Fetch-Site\": \"none\",\n",
    "        \"Sec-Fetch-User\": \"?1\",\n",
    "        \"Sec-Gpc\": \"1\",\n",
    "        \"Upgrade-Insecure-Requests\": \"1\",\n",
    "        \"User-Agent\": \"Mozilla/5.0 (Macintosh; Intel Mac OS X 10_15_7) AppleWebKit/537.36 (KHTML, like Gecko) Chrome/121.0.0.0 Safari/537.36\",\n",
    "    }\n",
    "    return requests.request(\n",
    "        \"GET\", base_url, data=payload, headers=headers, params=querystring\n",
    "    )\n",
    "\n",
    "\n",
    "def request_filings(filings_url):\n",
    "    payload = \"\"\n",
    "    headers = {\n",
    "        \"cookie\": \"ak_bmsc=3F5BFA3D8E552152BD2E67FCE10096DC~000000000000000000000000000000~YAAQx2ZWuPGOaFmNAQAAjp5vWxYmY%2BQzQhGEA4LdPvlk%2FKhQJGvIpoJ7c1qejPPfkG2poXtV5pxvxMDleQ99lavTu2Ic4xtioLn9RNQTTeekmo3qrSSNHNN2tncMBNnQOiJgNc9C4pjVcMkSgM%2F0T1rwSpfExoFy3%2BK3QJD47Lg1IPGzeSyo9h%2F%2BMklPX7t5n%2FtN9YUJgzw%2F9lyQSnu3akaaX0T7zEOLowD%2Bysti7Y46giUIP0ekuZ4oU%2B3Ck%2BYMgXD%2FiaERUudhYh0Ix%2B4scR5M0%2BPDGxb%2BbduEBYxdKq6p%2BR%2F7NNWocRQRah7XUC5eeBQOQaHX8FskSVY9YgLE1Nguxow9JpXo2Y%2FrN2xTVm5%2Flnp55entnuHPUozJ26P032IWtCwyDl%2BODkijsuSpPPfO5gH7PVw6Vgo%2B0B1ZxrrNVOsre0ZJrMrRJVa0%2B4It\",\n",
    "        \"Accept\": \"text/html,application/xhtml+xml,application/xml;q=0.9,image/avif,image/webp,image/apng,*/*;q=0.8\",\n",
    "        \"Accept-Encoding\": \"gzip, deflate, br\",\n",
    "        \"Accept-Language\": \"en-US,en;q=0.9\",\n",
    "        \"Cache-Control\": \"max-age=0\",\n",
    "        \"Cookie\": \"bm_mi=ED08638E1BD445BFF11BE79BB1DFA4AB~YAAQBFgDF7TNBzqNAQAAgYdtWxbyg9yNZ4FwK6GcLTLosLPB6G+qVK00PIRMsBo3jM0G8TbLAPo6OiFA6HTDdEqD3Ue6OIpMPPBiz+5SQoBFHCN6DtnZVnK4cEpP6qZM9rh3I/wENUqoNs6SNYu0XHiORLwxWxYfq7jUrFZyS+MkE9WPX+wfZdTHSaKCu+xbqf5QoSW1XosxPdYyDZI0SJafesQnz/89NHFelL+KZYXCRbKX1+xJg6pyCO3gj6H/F6FenGR1jGPZg81quf1+hAWUNEVapyIZCsXrZOc0SCC/tnpErpVOwY4bCTeEBMHhFGCS9Sui5ABMUftidodk~1; bm_sv=6E383066D99B4042B27BC05EFB9E214C~YAAQBFgDF2PRBzqNAQAA7bdtWxZ/PMnzQtqKxlp6rHlliSc5lEgp7+zUu8TI4Xu/xyLMumWqeu2jg37RxlLPK8b7Rs8LoDuJiCygPT7GzSCi8aM+MB/28XvQXjd80mfWfTz+zar1aNSd68bGYmag18CEmulDaFVaZe49jir81rM+tQChQg8onMmTTMpMZ0ILDPGk8R8lJhnEudXBQMx0B3BlbWAMOH3EGZiBn8dWEmg/sEl0IcksFZdu37+H~1; ak_bmsc=3F5BFA3D8E552152BD2E67FCE10096DC~000000000000000000000000000000~YAAQBFgDF984CDqNAQAAKF1zWxZxJmUcvth1s3WIXMiM6eK4zNe8VG7F8kxxmQEyJeW1bwoOCGnYBZLY72j6ad2WrL3I+M38IRnAcdPguId43ntcRpKnZMpTj75jxBvmrDhU2wlRUP9a3nZXP9CI1UioVxGQYCrHWYOjQhlKlTYXwfu4vK38tdb6sFApHj/bKdeQJyIHWE27dfMjHNtDQpo0QED5BTIIVRFwruczxT/qgvigl2s8kiOZIX1a3QqC02Rwmt9OvwFmZScwu30UpEUHvUr17ED0eCWdkcy7dk6duR33kpx9F1b6bWqd6Ae2IzAtpDEOl+6V+yOqyFqejNJeKWhLcxbfEX18qyy8aqIQ73qF3vybKWDFzipNKT4y8WkT6E3+YfyEBgxG319NwPPQdVZ14ZkKv1UpFPFV9lkhUUoBx2CGVfnPbiJVGAPL\",\n",
    "        \"If-Modified-Since\": \"Thu, 02 Nov 2023 22 08:27 GMT\",\n",
    "        \"Sec-Ch-Ua\": '\"Not A(Brand\";v=\"99\", \"Brave\";v=\"121\", \"Chromium\";v=\"121\"',\n",
    "        \"Sec-Ch-Ua-Mobile\": \"?0\",\n",
    "        \"Sec-Ch-Ua-Platform\": '\"macOS\"',\n",
    "        \"Sec-Fetch-Dest\": \"document\",\n",
    "        \"Sec-Fetch-Mode\": \"navigate\",\n",
    "        \"Sec-Fetch-Site\": \"none\",\n",
    "        \"Sec-Fetch-User\": \"?1\",\n",
    "        \"Sec-Gpc\": \"1\",\n",
    "        \"Upgrade-Insecure-Requests\": \"1\",\n",
    "        \"User-Agent\": \"Mozilla/5.0 (Macintosh; Intel Mac OS X 10_15_7) AppleWebKit/537.36 (KHTML, like Gecko) Chrome/121.0.0.0 Safari/537.36\",\n",
    "    }\n",
    "    return requests.request(\"GET\", filings_url, data=payload, headers=headers)\n",
    "\n",
    "\n",
    "def fetch_filing_urls(archive):\n",
    "    archive_urls = {}\n",
    "\n",
    "    soup = BeautifulSoup(archive.text, \"html.parser\")\n",
    "    table = soup.find(\"table\", class_=\"tableFile2\")\n",
    "    rows = table.find_all(\"tr\")\n",
    "\n",
    "    for row in rows[1:]:  # Skip the header row\n",
    "        cols = row.find_all(\"td\")\n",
    "        if len(cols) > 3:\n",
    "            filing_date = cols[3].text.strip()\n",
    "            year = int(filing_date.split(\"-\")[0])\n",
    "\n",
    "            if year >= (current_year - YEARS_BACK):\n",
    "                filing_href = cols[1].find(\"a\")[\"href\"]\n",
    "                filing_page_url = f\"https://www.sec.gov{filing_href}\"\n",
    "\n",
    "                archive_urls[year] = {\"filings_url\": filing_page_url}\n",
    "\n",
    "    return archive_urls\n",
    "\n",
    "\n",
    "def fetch_10k_urls(archive_urls):\n",
    "    filings = {}\n",
    "    for year, value in archive_urls.items():\n",
    "        filings_url = value[\"filings_url\"]\n",
    "\n",
    "        filings_response = request_filings(filings_url)\n",
    "        filing_page_soup = BeautifulSoup(filings_response.text, \"html.parser\")\n",
    "        for doc_link in filing_page_soup.find_all(\"a\"):\n",
    "            if doc_link.text.startswith(ticker):\n",
    "                doc_href = doc_link[\"href\"]\n",
    "                download_url = f\"https://www.sec.gov{doc_href}\"\n",
    "                filings[year] = \"\".join(download_url.split(\".xml\")).replace(\n",
    "                    \"_htm\", \".htm\"\n",
    "                )\n",
    "    return filings"
   ]
  },
  {
   "cell_type": "code",
   "execution_count": null,
   "metadata": {},
   "outputs": [],
   "source": []
  },
  {
   "cell_type": "code",
   "execution_count": 5,
   "metadata": {},
   "outputs": [],
   "source": [
    "def get_doc_href(findings):\n",
    "    a = 0\n",
    "    doc_href = \"\"\n",
    "    for i in findings:\n",
    "        a += 1\n",
    "        if i.text == \"10-K\":\n",
    "            try:\n",
    "                doc_href = findings[a].find(\"a\")[\"href\"]\n",
    "            except Exception:\n",
    "                continue\n",
    "    return doc_href"
   ]
  },
  {
   "cell_type": "code",
   "execution_count": 6,
   "metadata": {},
   "outputs": [],
   "source": [
    "def fetch_filings(archive_urls):\n",
    "\n",
    "    filings = {}\n",
    "    for year, value in archive_urls.items():\n",
    "        filings_url = value[\"filings_url\"]\n",
    "\n",
    "        filings_response = request_filings(filings_url)\n",
    "        filing_page_soup = BeautifulSoup(filings_response.text, \"html.parser\")\n",
    "        findings = filing_page_soup.find_all(\"td\")\n",
    "        doc_href = get_doc_href(findings)\n",
    "        download_url = f\"https://www.sec.gov{doc_href}\"\n",
    "        filings[year] = \"\".join(download_url.split(\".xml\")).replace(\"_htm\", \".htm\")\n",
    "\n",
    "    return filings"
   ]
  },
  {
   "cell_type": "code",
   "execution_count": 8,
   "metadata": {},
   "outputs": [],
   "source": [
    "def get_10k_filings(ticker):\n",
    "    archive = request_archive(ticker)\n",
    "    archive_urls = fetch_filing_urls(archive)\n",
    "    return fetch_filings(archive_urls)"
   ]
  },
  {
   "cell_type": "code",
   "execution_count": 9,
   "metadata": {},
   "outputs": [],
   "source": [
    "filings = get_10k_filings(ticker)"
   ]
  },
  {
   "cell_type": "code",
   "execution_count": 10,
   "metadata": {},
   "outputs": [
    {
     "data": {
      "text/plain": [
       "{2023: 'https://www.sec.gov/ix?doc=/Archives/edgar/data/320193/000032019323000106/aapl-20230930.htm',\n",
       " 2022: 'https://www.sec.gov/ix?doc=/Archives/edgar/data/320193/000032019322000108/aapl-20220924.htm',\n",
       " 2021: 'https://www.sec.gov/ix?doc=/Archives/edgar/data/320193/000032019321000105/aapl-20210925.htm',\n",
       " 2020: 'https://www.sec.gov/ix?doc=/Archives/edgar/data/320193/000032019320000096/aapl-20200926.htm',\n",
       " 2019: 'https://www.sec.gov/ix?doc=/Archives/edgar/data/320193/000032019319000119/a10-k20199282019.htm',\n",
       " 2018: 'https://www.sec.gov/Archives/edgar/data/320193/000032019318000145/a10-k20189292018.htm',\n",
       " 2017: 'https://www.sec.gov/Archives/edgar/data/320193/000032019317000070/a10-k20179302017.htm',\n",
       " 2016: 'https://www.sec.gov/Archives/edgar/data/320193/000162828016020309/a201610-k9242016.htm',\n",
       " 2015: 'https://www.sec.gov',\n",
       " 2014: 'https://www.sec.gov/Archives/edgar/data/320193/000119312514383437/d783162d10k.htm',\n",
       " 2013: 'https://www.sec.gov',\n",
       " 2012: 'https://www.sec.gov',\n",
       " 2011: 'https://www.sec.gov',\n",
       " 2010: 'https://www.sec.gov',\n",
       " 2009: 'https://www.sec.gov'}"
      ]
     },
     "execution_count": 10,
     "metadata": {},
     "output_type": "execute_result"
    }
   ],
   "source": [
    "filings"
   ]
  },
  {
   "cell_type": "code",
   "execution_count": 11,
   "metadata": {},
   "outputs": [
    {
     "ename": "NameError",
     "evalue": "name 'filing_page_soup' is not defined",
     "output_type": "error",
     "traceback": [
      "\u001b[0;31m---------------------------------------------------------------------------\u001b[0m",
      "\u001b[0;31mNameError\u001b[0m                                 Traceback (most recent call last)",
      "Cell \u001b[0;32mIn[11], line 1\u001b[0m\n\u001b[0;32m----> 1\u001b[0m \u001b[43mfiling_page_soup\u001b[49m\u001b[38;5;241m.\u001b[39mfind_all(\u001b[38;5;124m\"\u001b[39m\u001b[38;5;124ma\u001b[39m\u001b[38;5;124m\"\u001b[39m)\n",
      "\u001b[0;31mNameError\u001b[0m: name 'filing_page_soup' is not defined"
     ]
    }
   ],
   "source": [
    "filing_page_soup.find_all(\"a\")"
   ]
  },
  {
   "cell_type": "code",
   "execution_count": 12,
   "metadata": {},
   "outputs": [
    {
     "ename": "NameError",
     "evalue": "name 'archive_urls' is not defined",
     "output_type": "error",
     "traceback": [
      "\u001b[0;31m---------------------------------------------------------------------------\u001b[0m",
      "\u001b[0;31mNameError\u001b[0m                                 Traceback (most recent call last)",
      "Cell \u001b[0;32mIn[12], line 1\u001b[0m\n\u001b[0;32m----> 1\u001b[0m \u001b[43marchive_urls\u001b[49m\n",
      "\u001b[0;31mNameError\u001b[0m: name 'archive_urls' is not defined"
     ]
    }
   ],
   "source": [
    "archive_urls"
   ]
  },
  {
   "cell_type": "code",
   "execution_count": null,
   "metadata": {},
   "outputs": [
    {
     "data": {
      "text/plain": [
       "{2023: 'https://www.sec.gov/Archives/edgar/data/1800/000162828023004026/abt-20221231.htm',\n",
       " 2022: 'https://www.sec.gov/Archives/edgar/data/1800/000110465922025141/abt-20211231x10k.htm',\n",
       " 2021: 'https://www.sec.gov/Archives/edgar/data/1800/000110465921025751/abt-20201231x10k.htm',\n",
       " 2020: 'https://www.sec.gov/Archives/edgar/data/1800/000110465920023904/abt-20191231x10k59d41b.htm',\n",
       " 2019: 'https://www.sec.gov/Archives/edgar/data/1800/000104746919000624/abt-20181231_def',\n",
       " 2018: 'https://www.sec.gov/Archives/edgar/data/1800/000104746918000856/abt-20171231_def',\n",
       " 2017: 'https://www.sec.gov/Archives/edgar/data/1800/000104746917000744/abt-20161231_def',\n",
       " 2016: 'https://www.sec.gov/Archives/edgar/data/1800/000104746916010246/abt-20151231_pre',\n",
       " 2015: 'https://www.sec.gov/Archives/edgar/data/1800/000104746915001377/abt-20141231_def',\n",
       " 2014: 'https://www.sec.gov/Archives/edgar/data/1800/000104746914001176/abt-20131231_def',\n",
       " 2013: 'https://www.sec.gov/Archives/edgar/data/1800/000104746913001180/abt-20121231_def',\n",
       " 2012: 'https://www.sec.gov/Archives/edgar/data/1800/000104746912001216/abt-20111231_def',\n",
       " 2011: 'https://www.sec.gov/Archives/edgar/data/1800/000104746911001056/abt-20101231_pre',\n",
       " 2010: 'https://www.sec.gov/Archives/edgar/data/1800/000104746910001018/abt-20091231_pre'}"
      ]
     },
     "execution_count": 16,
     "metadata": {},
     "output_type": "execute_result"
    }
   ],
   "source": [
    "filing_urls"
   ]
  },
  {
   "cell_type": "code",
   "execution_count": null,
   "metadata": {},
   "outputs": [],
   "source": [
    "df = pd.DataFrame.from_dict(filing_urls).T"
   ]
  },
  {
   "cell_type": "code",
   "execution_count": null,
   "metadata": {},
   "outputs": [
    {
     "data": {
      "text/plain": [
       "'https://www.sec.gov/Archives/edgar/data/1800/000162828023004026/abt-20221231.htm'"
      ]
     },
     "execution_count": 11,
     "metadata": {},
     "output_type": "execute_result"
    }
   ],
   "source": [
    "df.iloc[0][\"10k_url\"]"
   ]
  },
  {
   "cell_type": "code",
   "execution_count": null,
   "metadata": {},
   "outputs": [
    {
     "data": {
      "text/plain": [
       "{'filings_url': 'https://www.sec.gov/Archives/edgar/data/1800/000162828023004026/0001628280-23-004026-index.htm',\n",
       " '10k_url': 'https://www.sec.gov/Archives/edgar/data/1800/000162828023004026/abt-20221231.htm'}"
      ]
     },
     "execution_count": 12,
     "metadata": {},
     "output_type": "execute_result"
    }
   ],
   "source": [
    "archive_urls[2023]"
   ]
  },
  {
   "cell_type": "code",
   "execution_count": null,
   "metadata": {},
   "outputs": [],
   "source": [
    "import pandas as pd"
   ]
  },
  {
   "cell_type": "code",
   "execution_count": null,
   "metadata": {},
   "outputs": [
    {
     "data": {
      "text/html": [
       "<div>\n",
       "<style scoped>\n",
       "    .dataframe tbody tr th:only-of-type {\n",
       "        vertical-align: middle;\n",
       "    }\n",
       "\n",
       "    .dataframe tbody tr th {\n",
       "        vertical-align: top;\n",
       "    }\n",
       "\n",
       "    .dataframe thead th {\n",
       "        text-align: right;\n",
       "    }\n",
       "</style>\n",
       "<table border=\"1\" class=\"dataframe\">\n",
       "  <thead>\n",
       "    <tr style=\"text-align: right;\">\n",
       "      <th></th>\n",
       "      <th>2023</th>\n",
       "      <th>2022</th>\n",
       "      <th>2021</th>\n",
       "      <th>2020</th>\n",
       "      <th>2019</th>\n",
       "      <th>2018</th>\n",
       "      <th>2017</th>\n",
       "      <th>2016</th>\n",
       "      <th>2015</th>\n",
       "      <th>2014</th>\n",
       "      <th>2013</th>\n",
       "      <th>2012</th>\n",
       "      <th>2011</th>\n",
       "      <th>2010</th>\n",
       "      <th>2009</th>\n",
       "    </tr>\n",
       "  </thead>\n",
       "  <tbody>\n",
       "    <tr>\n",
       "      <th>abt</th>\n",
       "      <td>https://www.sec.gov/ix?doc=/Archives/edgar/dat...</td>\n",
       "      <td>https://www.sec.gov/ix?doc=/Archives/edgar/dat...</td>\n",
       "      <td>https://www.sec.gov/ix?doc=/Archives/edgar/dat...</td>\n",
       "      <td>https://www.sec.gov/ix?doc=/Archives/edgar/dat...</td>\n",
       "      <td>https://www.sec.gov/Archives/edgar/data/1800/0...</td>\n",
       "      <td>https://www.sec.gov/Archives/edgar/data/1800/0...</td>\n",
       "      <td>https://www.sec.gov/Archives/edgar/data/1800/0...</td>\n",
       "      <td>https://www.sec.gov/Archives/edgar/data/1800/0...</td>\n",
       "      <td>https://www.sec.gov/Archives/edgar/data/1800/0...</td>\n",
       "      <td>https://www.sec.gov/Archives/edgar/data/1800/0...</td>\n",
       "      <td>https://www.sec.gov/Archives/edgar/data/1800/0...</td>\n",
       "      <td>https://www.sec.gov/Archives/edgar/data/1800/0...</td>\n",
       "      <td>https://www.sec.gov/Archives/edgar/data/1800/0...</td>\n",
       "      <td>https://www.sec.gov/Archives/edgar/data/1800/0...</td>\n",
       "      <td>https://www.sec.gov/Archives/edgar/data/1800/0...</td>\n",
       "    </tr>\n",
       "    <tr>\n",
       "      <th>aapl</th>\n",
       "      <td>https://www.sec.gov/ix?doc=/Archives/edgar/dat...</td>\n",
       "      <td>https://www.sec.gov/ix?doc=/Archives/edgar/dat...</td>\n",
       "      <td>https://www.sec.gov/ix?doc=/Archives/edgar/dat...</td>\n",
       "      <td>https://www.sec.gov/ix?doc=/Archives/edgar/dat...</td>\n",
       "      <td>https://www.sec.gov/ix?doc=/Archives/edgar/dat...</td>\n",
       "      <td>https://www.sec.gov/Archives/edgar/data/320193...</td>\n",
       "      <td>https://www.sec.gov/Archives/edgar/data/320193...</td>\n",
       "      <td>https://www.sec.gov/Archives/edgar/data/320193...</td>\n",
       "      <td>https://www.sec.gov</td>\n",
       "      <td>https://www.sec.gov/Archives/edgar/data/320193...</td>\n",
       "      <td>https://www.sec.gov</td>\n",
       "      <td>https://www.sec.gov</td>\n",
       "      <td>https://www.sec.gov</td>\n",
       "      <td>https://www.sec.gov</td>\n",
       "      <td>https://www.sec.gov</td>\n",
       "    </tr>\n",
       "  </tbody>\n",
       "</table>\n",
       "</div>"
      ],
      "text/plain": [
       "                                                   2023  \\\n",
       "abt   https://www.sec.gov/ix?doc=/Archives/edgar/dat...   \n",
       "aapl  https://www.sec.gov/ix?doc=/Archives/edgar/dat...   \n",
       "\n",
       "                                                   2022  \\\n",
       "abt   https://www.sec.gov/ix?doc=/Archives/edgar/dat...   \n",
       "aapl  https://www.sec.gov/ix?doc=/Archives/edgar/dat...   \n",
       "\n",
       "                                                   2021  \\\n",
       "abt   https://www.sec.gov/ix?doc=/Archives/edgar/dat...   \n",
       "aapl  https://www.sec.gov/ix?doc=/Archives/edgar/dat...   \n",
       "\n",
       "                                                   2020  \\\n",
       "abt   https://www.sec.gov/ix?doc=/Archives/edgar/dat...   \n",
       "aapl  https://www.sec.gov/ix?doc=/Archives/edgar/dat...   \n",
       "\n",
       "                                                   2019  \\\n",
       "abt   https://www.sec.gov/Archives/edgar/data/1800/0...   \n",
       "aapl  https://www.sec.gov/ix?doc=/Archives/edgar/dat...   \n",
       "\n",
       "                                                   2018  \\\n",
       "abt   https://www.sec.gov/Archives/edgar/data/1800/0...   \n",
       "aapl  https://www.sec.gov/Archives/edgar/data/320193...   \n",
       "\n",
       "                                                   2017  \\\n",
       "abt   https://www.sec.gov/Archives/edgar/data/1800/0...   \n",
       "aapl  https://www.sec.gov/Archives/edgar/data/320193...   \n",
       "\n",
       "                                                   2016  \\\n",
       "abt   https://www.sec.gov/Archives/edgar/data/1800/0...   \n",
       "aapl  https://www.sec.gov/Archives/edgar/data/320193...   \n",
       "\n",
       "                                                   2015  \\\n",
       "abt   https://www.sec.gov/Archives/edgar/data/1800/0...   \n",
       "aapl                                https://www.sec.gov   \n",
       "\n",
       "                                                   2014  \\\n",
       "abt   https://www.sec.gov/Archives/edgar/data/1800/0...   \n",
       "aapl  https://www.sec.gov/Archives/edgar/data/320193...   \n",
       "\n",
       "                                                   2013  \\\n",
       "abt   https://www.sec.gov/Archives/edgar/data/1800/0...   \n",
       "aapl                                https://www.sec.gov   \n",
       "\n",
       "                                                   2012  \\\n",
       "abt   https://www.sec.gov/Archives/edgar/data/1800/0...   \n",
       "aapl                                https://www.sec.gov   \n",
       "\n",
       "                                                   2011  \\\n",
       "abt   https://www.sec.gov/Archives/edgar/data/1800/0...   \n",
       "aapl                                https://www.sec.gov   \n",
       "\n",
       "                                                   2010  \\\n",
       "abt   https://www.sec.gov/Archives/edgar/data/1800/0...   \n",
       "aapl                                https://www.sec.gov   \n",
       "\n",
       "                                                   2009  \n",
       "abt   https://www.sec.gov/Archives/edgar/data/1800/0...  \n",
       "aapl                                https://www.sec.gov  "
      ]
     },
     "execution_count": 69,
     "metadata": {},
     "output_type": "execute_result"
    }
   ],
   "source": [
    "pd.read_json(\"../filings.json\", orient=\"index\")"
   ]
  }
 ],
 "metadata": {
  "kernelspec": {
   "display_name": "fra-dev",
   "language": "python",
   "name": "fra-dev"
  },
  "language_info": {
   "codemirror_mode": {
    "name": "ipython",
    "version": 3
   },
   "file_extension": ".py",
   "mimetype": "text/x-python",
   "name": "python",
   "nbconvert_exporter": "python",
   "pygments_lexer": "ipython3",
   "version": "3.12.1"
  }
 },
 "nbformat": 4,
 "nbformat_minor": 2
}
