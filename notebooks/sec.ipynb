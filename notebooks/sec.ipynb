{
 "cells": [
  {
   "cell_type": "code",
   "execution_count": 1,
   "metadata": {},
   "outputs": [],
   "source": [
    "import requests\n",
    "from bs4 import BeautifulSoup\n",
    "from datetime import date\n",
    "\n",
    "import pandas as pd"
   ]
  },
  {
   "cell_type": "code",
   "execution_count": null,
   "metadata": {},
   "outputs": [],
   "source": [
    "YEARS_BACK = 15\n",
    "current_year = date.today().year"
   ]
  },
  {
   "cell_type": "code",
   "execution_count": 2,
   "metadata": {},
   "outputs": [],
   "source": [
    "ticker = \"aapl\""
   ]
  },
  {
   "cell_type": "code",
   "execution_count": 3,
   "metadata": {},
   "outputs": [],
   "source": [
    "def request_archive(ticker):\n",
    "    base_url = \"https://www.sec.gov/cgi-bin/browse-edgar\"\n",
    "\n",
    "    querystring = {\n",
    "        \"action\": \"getcompany\",\n",
    "        \"CIK\": ticker,\n",
    "        \"type\": \"10-k\",\n",
    "        \"dateb\": \"\",\n",
    "        \"owner\": \"exclude\",\n",
    "        \"count\": \"40\",\n",
    "    }\n",
    "\n",
    "    payload = \"\"\n",
    "    headers = {\n",
    "        \"cookie\": \"ak_bmsc=3F5BFA3D8E552152BD2E67FCE10096DC~000000000000000000000000000000~YAAQx2ZWuPGOaFmNAQAAjp5vWxYmY%2BQzQhGEA4LdPvlk%2FKhQJGvIpoJ7c1qejPPfkG2poXtV5pxvxMDleQ99lavTu2Ic4xtioLn9RNQTTeekmo3qrSSNHNN2tncMBNnQOiJgNc9C4pjVcMkSgM%2F0T1rwSpfExoFy3%2BK3QJD47Lg1IPGzeSyo9h%2F%2BMklPX7t5n%2FtN9YUJgzw%2F9lyQSnu3akaaX0T7zEOLowD%2Bysti7Y46giUIP0ekuZ4oU%2B3Ck%2BYMgXD%2FiaERUudhYh0Ix%2B4scR5M0%2BPDGxb%2BbduEBYxdKq6p%2BR%2F7NNWocRQRah7XUC5eeBQOQaHX8FskSVY9YgLE1Nguxow9JpXo2Y%2FrN2xTVm5%2Flnp55entnuHPUozJ26P032IWtCwyDl%2BODkijsuSpPPfO5gH7PVw6Vgo%2B0B1ZxrrNVOsre0ZJrMrRJVa0%2B4It\",\n",
    "        \"Accept\": \"text/html,application/xhtml+xml,application/xml;q=0.9,image/avif,image/webp,image/apng,*/*;q=0.8\",\n",
    "        \"Accept-Encoding\": \"gzip, deflate, br\",\n",
    "        \"Accept-Language\": \"en-US,en;q=0.9\",\n",
    "        \"Cache-Control\": \"max-age=0\",\n",
    "        \"Cookie\": \"ak_bmsc=3F5BFA3D8E552152BD2E67FCE10096DC~000000000000000000000000000000~YAAQBFgDF1l3BzqNAQAAsylmWxY3NmHWL7CNijcxPunbjZqtio8FdHvQRDxOufmYtfoLhzIVAtPu8I5mXDZBynhUH4XLCr34T8vnJfr7WP+zN4ewSSLZvA2OqWi7xui1z/gW/4q2N7Wb1JjOlXYAdUdt6HHwM+ayuNUv5nw8XvjzzTjm3A7dmFqOGRWdUk7SloEozLRAThyho2i2FkQz/olX+pg3dnozT8Hf0KIRIB5CBxk5ujeFaMWu924K9EpBgptEQ3SkQzITJ/RX+JFcIvDWed7fubLT7cqIdpGMkGboDLrMkJB0Sn+eTSZLolUjysrqtCka7KbPIjUOB4Ps45rbw8joDmfW2k87cE3pQauIrcXTRXrJpwxZ3rZ3Zfix04ULaYUllw==; bm_mi=ED08638E1BD445BFF11BE79BB1DFA4AB~YAAQBFgDF7TNBzqNAQAAgYdtWxbyg9yNZ4FwK6GcLTLosLPB6G+qVK00PIRMsBo3jM0G8TbLAPo6OiFA6HTDdEqD3Ue6OIpMPPBiz+5SQoBFHCN6DtnZVnK4cEpP6qZM9rh3I/wENUqoNs6SNYu0XHiORLwxWxYfq7jUrFZyS+MkE9WPX+wfZdTHSaKCu+xbqf5QoSW1XosxPdYyDZI0SJafesQnz/89NHFelL+KZYXCRbKX1+xJg6pyCO3gj6H/F6FenGR1jGPZg81quf1+hAWUNEVapyIZCsXrZOc0SCC/tnpErpVOwY4bCTeEBMHhFGCS9Sui5ABMUftidodk~1; bm_sv=6E383066D99B4042B27BC05EFB9E214C~YAAQBFgDF7XNBzqNAQAAgYdtWxbZ34/QlgV23NeESN8YlMo1bTxIL6kiC2ZoKd1nypGTSXU0jCG1bX1upvIoz9RbMQNJr8SGK70G9TeWoaSu65EfNYKTUuKMR5c0Wz8O+Aaf2s9di+Rmta4WDh/ID40Rc4JHxKAWZyY7Eu5azfYrv57bgorrFj8yw2ZkQ7WoJuR5DAuo7oIaoNt/nn972prbW/gUxfKWdiSIHl+FjXYRFOh9VHPLPWVdwFob~1\",\n",
    "        \"Sec-Ch-Ua\": '\"Not A(Brand\";v=\"99\", \"Brave\";v=\"121\", \"Chromium\";v=\"121\"',\n",
    "        \"Sec-Ch-Ua-Mobile\": \"?0\",\n",
    "        \"Sec-Ch-Ua-Platform\": '\"macOS\"',\n",
    "        \"Sec-Fetch-Dest\": \"document\",\n",
    "        \"Sec-Fetch-Mode\": \"navigate\",\n",
    "        \"Sec-Fetch-Site\": \"none\",\n",
    "        \"Sec-Fetch-User\": \"?1\",\n",
    "        \"Sec-Gpc\": \"1\",\n",
    "        \"Upgrade-Insecure-Requests\": \"1\",\n",
    "        \"User-Agent\": \"Mozilla/5.0 (Macintosh; Intel Mac OS X 10_15_7) AppleWebKit/537.36 (KHTML, like Gecko) Chrome/121.0.0.0 Safari/537.36\",\n",
    "    }\n",
    "\n",
    "    return requests.request(\n",
    "        \"GET\", base_url, data=payload, headers=headers, params=querystring\n",
    "    )"
   ]
  },
  {
   "cell_type": "code",
   "execution_count": 4,
   "metadata": {},
   "outputs": [],
   "source": [
    "def request_filings(filings_url):\n",
    "    payload = \"\"\n",
    "    headers = {\n",
    "        \"cookie\": \"ak_bmsc=3F5BFA3D8E552152BD2E67FCE10096DC~000000000000000000000000000000~YAAQx2ZWuPGOaFmNAQAAjp5vWxYmY%2BQzQhGEA4LdPvlk%2FKhQJGvIpoJ7c1qejPPfkG2poXtV5pxvxMDleQ99lavTu2Ic4xtioLn9RNQTTeekmo3qrSSNHNN2tncMBNnQOiJgNc9C4pjVcMkSgM%2F0T1rwSpfExoFy3%2BK3QJD47Lg1IPGzeSyo9h%2F%2BMklPX7t5n%2FtN9YUJgzw%2F9lyQSnu3akaaX0T7zEOLowD%2Bysti7Y46giUIP0ekuZ4oU%2B3Ck%2BYMgXD%2FiaERUudhYh0Ix%2B4scR5M0%2BPDGxb%2BbduEBYxdKq6p%2BR%2F7NNWocRQRah7XUC5eeBQOQaHX8FskSVY9YgLE1Nguxow9JpXo2Y%2FrN2xTVm5%2Flnp55entnuHPUozJ26P032IWtCwyDl%2BODkijsuSpPPfO5gH7PVw6Vgo%2B0B1ZxrrNVOsre0ZJrMrRJVa0%2B4It\",\n",
    "        \"Accept\": \"text/html,application/xhtml+xml,application/xml;q=0.9,image/avif,image/webp,image/apng,*/*;q=0.8\",\n",
    "        \"Accept-Encoding\": \"gzip, deflate, br\",\n",
    "        \"Accept-Language\": \"en-US,en;q=0.9\",\n",
    "        \"Cache-Control\": \"max-age=0\",\n",
    "        \"Cookie\": \"bm_mi=ED08638E1BD445BFF11BE79BB1DFA4AB~YAAQBFgDF7TNBzqNAQAAgYdtWxbyg9yNZ4FwK6GcLTLosLPB6G+qVK00PIRMsBo3jM0G8TbLAPo6OiFA6HTDdEqD3Ue6OIpMPPBiz+5SQoBFHCN6DtnZVnK4cEpP6qZM9rh3I/wENUqoNs6SNYu0XHiORLwxWxYfq7jUrFZyS+MkE9WPX+wfZdTHSaKCu+xbqf5QoSW1XosxPdYyDZI0SJafesQnz/89NHFelL+KZYXCRbKX1+xJg6pyCO3gj6H/F6FenGR1jGPZg81quf1+hAWUNEVapyIZCsXrZOc0SCC/tnpErpVOwY4bCTeEBMHhFGCS9Sui5ABMUftidodk~1; bm_sv=6E383066D99B4042B27BC05EFB9E214C~YAAQBFgDF2PRBzqNAQAA7bdtWxZ/PMnzQtqKxlp6rHlliSc5lEgp7+zUu8TI4Xu/xyLMumWqeu2jg37RxlLPK8b7Rs8LoDuJiCygPT7GzSCi8aM+MB/28XvQXjd80mfWfTz+zar1aNSd68bGYmag18CEmulDaFVaZe49jir81rM+tQChQg8onMmTTMpMZ0ILDPGk8R8lJhnEudXBQMx0B3BlbWAMOH3EGZiBn8dWEmg/sEl0IcksFZdu37+H~1; ak_bmsc=3F5BFA3D8E552152BD2E67FCE10096DC~000000000000000000000000000000~YAAQBFgDF984CDqNAQAAKF1zWxZxJmUcvth1s3WIXMiM6eK4zNe8VG7F8kxxmQEyJeW1bwoOCGnYBZLY72j6ad2WrL3I+M38IRnAcdPguId43ntcRpKnZMpTj75jxBvmrDhU2wlRUP9a3nZXP9CI1UioVxGQYCrHWYOjQhlKlTYXwfu4vK38tdb6sFApHj/bKdeQJyIHWE27dfMjHNtDQpo0QED5BTIIVRFwruczxT/qgvigl2s8kiOZIX1a3QqC02Rwmt9OvwFmZScwu30UpEUHvUr17ED0eCWdkcy7dk6duR33kpx9F1b6bWqd6Ae2IzAtpDEOl+6V+yOqyFqejNJeKWhLcxbfEX18qyy8aqIQ73qF3vybKWDFzipNKT4y8WkT6E3+YfyEBgxG319NwPPQdVZ14ZkKv1UpFPFV9lkhUUoBx2CGVfnPbiJVGAPL\",\n",
    "        \"If-Modified-Since\": \"Thu, 02 Nov 2023 22 08:27 GMT\",\n",
    "        \"Sec-Ch-Ua\": '\"Not A(Brand\";v=\"99\", \"Brave\";v=\"121\", \"Chromium\";v=\"121\"',\n",
    "        \"Sec-Ch-Ua-Mobile\": \"?0\",\n",
    "        \"Sec-Ch-Ua-Platform\": '\"macOS\"',\n",
    "        \"Sec-Fetch-Dest\": \"document\",\n",
    "        \"Sec-Fetch-Mode\": \"navigate\",\n",
    "        \"Sec-Fetch-Site\": \"none\",\n",
    "        \"Sec-Fetch-User\": \"?1\",\n",
    "        \"Sec-Gpc\": \"1\",\n",
    "        \"Upgrade-Insecure-Requests\": \"1\",\n",
    "        \"User-Agent\": \"Mozilla/5.0 (Macintosh; Intel Mac OS X 10_15_7) AppleWebKit/537.36 (KHTML, like Gecko) Chrome/121.0.0.0 Safari/537.36\",\n",
    "    }\n",
    "\n",
    "    return requests.request(\"GET\", filings_url, data=payload, headers=headers)"
   ]
  },
  {
   "cell_type": "code",
   "execution_count": 5,
   "metadata": {},
   "outputs": [],
   "source": [
    "archive = request_archive(ticker)\n",
    "\n",
    "\n",
    "def fetch_filing_urls(archive):\n",
    "    archive_urls = {}\n",
    "\n",
    "    soup = BeautifulSoup(archive.text, \"html.parser\")\n",
    "    table = soup.find(\"table\", class_=\"tableFile2\")\n",
    "    rows = table.find_all(\"tr\")\n",
    "\n",
    "    for row in rows[1:]:  # Skip the header row\n",
    "        cols = row.find_all(\"td\")\n",
    "        if len(cols) > 3:\n",
    "            filing_date = cols[3].text.strip()\n",
    "            year = int(filing_date.split(\"-\")[0])\n",
    "\n",
    "            if year >= (current_year - YEARS_BACK):\n",
    "                filing_href = cols[1].find(\"a\")[\"href\"]\n",
    "                filing_page_url = f\"https://www.sec.gov{filing_href}\"\n",
    "\n",
    "                archive_urls[year] = {\"filings_url\": filing_page_url}\n",
    "\n",
    "    return archive_urls\n",
    "\n",
    "\n",
    "archive_urls = fetch_filing_urls(archive)"
   ]
  },
  {
   "cell_type": "code",
   "execution_count": 6,
   "metadata": {},
   "outputs": [],
   "source": [
    "def fetch_10k_urls(archive_urls):\n",
    "    for year, value in archive_urls.items():\n",
    "        filings_url = value[\"filings_url\"]\n",
    "\n",
    "        filings_response = request_filings(filings_url)\n",
    "        filing_page_soup = BeautifulSoup(filings_response.text, \"html.parser\")\n",
    "        for doc_link in filing_page_soup.find_all(\"a\"):\n",
    "            if doc_link.text.startswith(ticker):\n",
    "                doc_href = doc_link[\"href\"]\n",
    "                download_url = f\"https://www.sec.gov{doc_href}\"\n",
    "                archive_urls[year][\"10k_url\"] = \"\".join(\n",
    "                    download_url.split(\".xml\")\n",
    "                ).replace(\"_htm\", \".htm\")\n",
    "    return archive_urls"
   ]
  },
  {
   "cell_type": "code",
   "execution_count": 7,
   "metadata": {},
   "outputs": [],
   "source": [
    "filing_urls = fetch_10k_urls(archive_urls)"
   ]
  },
  {
   "cell_type": "code",
   "execution_count": 8,
   "metadata": {},
   "outputs": [],
   "source": [
    "df = pd.DataFrame.from_dict(filing_urls).T"
   ]
  },
  {
   "cell_type": "code",
   "execution_count": 9,
   "metadata": {},
   "outputs": [
    {
     "data": {
      "text/plain": [
       "'https://www.sec.gov/Archives/edgar/data/320193/000032019323000106/aapl-20230930.htm'"
      ]
     },
     "execution_count": 9,
     "metadata": {},
     "output_type": "execute_result"
    }
   ],
   "source": [
    "df.iloc[0][\"10k_url\"]"
   ]
  },
  {
   "cell_type": "code",
   "execution_count": 10,
   "metadata": {},
   "outputs": [
    {
     "data": {
      "text/plain": [
       "{'filings_url': 'https://www.sec.gov/Archives/edgar/data/320193/000032019323000106/0000320193-23-000106-index.htm',\n",
       " '10k_url': 'https://www.sec.gov/Archives/edgar/data/320193/000032019323000106/aapl-20230930.htm'}"
      ]
     },
     "execution_count": 10,
     "metadata": {},
     "output_type": "execute_result"
    }
   ],
   "source": [
    "archive_urls[2023]"
   ]
  }
 ],
 "metadata": {
  "kernelspec": {
   "display_name": "fra-dev",
   "language": "python",
   "name": "fra-dev"
  },
  "language_info": {
   "codemirror_mode": {
    "name": "ipython",
    "version": 3
   },
   "file_extension": ".py",
   "mimetype": "text/x-python",
   "name": "python",
   "nbconvert_exporter": "python",
   "pygments_lexer": "ipython3",
   "version": "3.12.1"
  }
 },
 "nbformat": 4,
 "nbformat_minor": 2
}
