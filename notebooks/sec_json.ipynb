{
 "cells": [
  {
   "cell_type": "code",
   "execution_count": null,
   "metadata": {},
   "outputs": [],
   "source": [
    "import requests\n",
    "import pandas as pd\n",
    "\n",
    "from bs4 import BeautifulSoup"
   ]
  },
  {
   "cell_type": "code",
   "execution_count": null,
   "metadata": {},
   "outputs": [],
   "source": [
    "payload = \"\"\n",
    "headers = {\n",
    "    \"Accept\": \"text/html,application/xhtml+xml,application/xml;q=0.9,image/avif,image/webp,image/apng,*/*;q=0.8\",\n",
    "    \"Accept-Encoding\": \"gzip, deflate, br\",\n",
    "    \"Accept-Language\": \"en-US,en;q=0.9\",\n",
    "    \"Cache-Control\": \"max-age=0\",\n",
    "    \"Cookie\": \"bm_mi=2F5AC7DBEC90CA72B7048BFB724142E4~YAAQVCR+aDfBglWNAQAAXdbhXxZRJ4RnkkNmfKWUeKc1QmGH7v3TlPngbOdNdESvidaNFbsxYRDuqNOeHf7o1570sBMa6264ltivVUhPKdRHSGYpVZ2XMWAD/nsmFsSdGcaKYGWMYw5uwfMf/PBPBlZjEQFik5jnd6rWMARaXnpOcYh9njmeVVV519UStSmkmZI5vOvjdoluWej0Z2CxX3Tvw6lNgc1tGVpPsmufVg31H7mrJXYEd2r8dgK/8ByPdjyyHV9vmHGVXWgtIYQEPdFuSZTZcKKd+BnNxBwJMemL5bYVUglFp1bWgOrjeN1N3ix8AELEMXzUgBOh3O3bOm20cMppfRlldfsle3K8Ih4OPhQV7X2gCBWcP/IF9xpVVVUCvbQc36+ZPkQeYwCpp1ZbDy4=~1; bm_sv=6FE42A06849FED4835CF97262309E48E~YAAQVCR+aELBglWNAQAA9N3hXxbgrPGTXP4dLr20mIrEPGqqt/fAg73yGCttn0ty9QTvryHyxJIj5/Xk9bdr1pg+N8DKmsja3McwAOPL66B3PbRpOXDni0I/7hj2onuFL1tySgSQdD5H2wbu2hHzLereVi/obIf/64d3G6DMRmi21FiZaZXw0bKx8Dcbey35f4/a0B3//5sv5dyHH022pza3IR0waWQFv9Up4U5Z1kAbE6dcCBfgw81JPrQ0CA==~1; ak_bmsc=A56127CD072C24354C54D9D888F73150~000000000000000000000000000000~YAAQVCR+aB3CglWNAQAAPE7iXxZxAH8EfBgLMoBK20p82jHscZyuohv2ZDf4igBKSFrl/lk2WxTlHBCZjxlNf0g7+4qhiHtb+iiwCO6dsttHAG4aLtjhcRUqGypjDKB5LdHa2gdTTYL6d+zDand7hgzuYEMTmjSlIXjsdiIpL5cRkkkc62gsj4VYGbKiS7sXf8ZJrpwcTVflEsete1zfSn9uR5h8ydDbzbLPj/YOTNBCNU2lE61l66SPhy3c3LkvFWNB33V1iZVX/r7AqomFCHZQrZiEejEOczLuLEfLyEE/ol0OlL5UgHM/KIfQtfG7xhej2JoGiKzIBRyzQT7iChekHOjlzZgF0IvCURxPvw4bLD14OlSOsh9QYMBkH6MEs8csRoOCbuBdYFKkXESQ+dC0QkyTlDgDbzv61UZ6u/Tzsp3AlkDvWHW2FLNVdZE8G47QP0auueW3sMi84Y3n4reVALhIZUHywXQ6w4F4K3P3fQwcU+F/qOFevEsQU60mNxbPeEc=\",\n",
    "    \"If-Modified-Since\": \"Fri, 22 Feb 2019 21 17:19 GMT\",\n",
    "    \"Sec-Ch-Ua\": '\"Not A(Brand\";v=\"99\", \"Brave\";v=\"121\", \"Chromium\";v=\"121\"',\n",
    "    \"Sec-Ch-Ua-Mobile\": \"?0\",\n",
    "    \"Sec-Ch-Ua-Platform\": '\"macOS\"',\n",
    "    \"Sec-Fetch-Dest\": \"document\",\n",
    "    \"Sec-Fetch-Mode\": \"navigate\",\n",
    "    \"Sec-Fetch-Site\": \"none\",\n",
    "    \"Sec-Fetch-User\": \"?1\",\n",
    "    \"Sec-Gpc\": \"1\",\n",
    "    \"Upgrade-Insecure-Requests\": \"1\",\n",
    "    \"User-Agent\": \"Mozilla/5.0 (Macintosh; Intel Mac OS X 10_15_7) AppleWebKit/537.36 (KHTML, like Gecko) Chrome/121.0.0.0 Safari/537.36\",\n",
    "}"
   ]
  },
  {
   "cell_type": "code",
   "execution_count": null,
   "metadata": {},
   "outputs": [],
   "source": [
    "url = \"https://data.sec.gov/submissions/CIK0000001800.json\"\n",
    "r = requests.get(url, data=payload, headers=headers)"
   ]
  },
  {
   "cell_type": "code",
   "execution_count": null,
   "metadata": {},
   "outputs": [],
   "source": [
    "df = (\n",
    "    pd.DataFrame(r.json()[\"filings\"][\"recent\"])\n",
    "    .query(\"form=='10-K'\")\n",
    "    .reset_index(drop=True)\n",
    ")\n",
    "filings = pd.json_normalize(r.json()[\"filings\"]).T"
   ]
  },
  {
   "cell_type": "code",
   "execution_count": null,
   "metadata": {},
   "outputs": [],
   "source": [
    "df.head()"
   ]
  },
  {
   "cell_type": "code",
   "execution_count": null,
   "metadata": {},
   "outputs": [],
   "source": [
    "filings.head()"
   ]
  },
  {
   "cell_type": "code",
   "execution_count": null,
   "metadata": {},
   "outputs": [],
   "source": [
    "# base URL for the SEC EDGAR browser\n",
    "endpoint = r\"https://www.sec.gov/cgi-bin/browse-edgar\"\n",
    "\n",
    "# define our parameters dictionary\n",
    "param_dict = {\n",
    "    \"action\": \"getcompany\",\n",
    "    \"CIK\": \"1265107\",\n",
    "    \"type\": \"10-k\",\n",
    "    \"dateb\": \"20190101\",\n",
    "    \"owner\": \"exclude\",\n",
    "    \"start\": \"\",\n",
    "    \"output\": \"\",\n",
    "    \"count\": \"100\",\n",
    "}\n",
    "\n",
    "# request the url, and then parse the response.\n",
    "response = requests.get(url=endpoint, params=param_dict)\n",
    "soup = BeautifulSoup(response.content, \"html.parser\")\n",
    "\n",
    "# Let the user know it was successful.\n",
    "print(\"Request Successful\")\n",
    "print(response.url)"
   ]
  }
 ],
 "metadata": {
  "kernelspec": {
   "display_name": "fra-dev",
   "language": "python",
   "name": "fra-dev"
  },
  "language_info": {
   "codemirror_mode": {
    "name": "ipython",
    "version": 3
   },
   "file_extension": ".py",
   "mimetype": "text/x-python",
   "name": "python",
   "nbconvert_exporter": "python",
   "pygments_lexer": "ipython3",
   "version": "3.12.1"
  }
 },
 "nbformat": 4,
 "nbformat_minor": 2
}
